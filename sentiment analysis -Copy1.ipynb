{
 "cells": [
  {
   "cell_type": "code",
   "execution_count": 2,
   "metadata": {},
   "outputs": [],
   "source": [
    "from nltk.corpus import wordnet\n",
    "def get_simple_pos(tag):\n",
    "    \n",
    "    if tag.startswith('J'):\n",
    "        return wordnet.ADJ\n",
    "    elif tag.startswith('V'):\n",
    "        return wordnet.VERB\n",
    "    elif tag.startswith('N'):\n",
    "        return wordnet.NOUN\n",
    "    elif tag.startswith('R'):\n",
    "        return wordnet.ADV\n",
    "    else:\n",
    "        return wordnet.NOUN"
   ]
  },
  {
   "cell_type": "code",
   "execution_count": 5,
   "metadata": {},
   "outputs": [],
   "source": [
    "from nltk.corpus import stopwords\n",
    "import string\n",
    "stops = set(stopwords.words('english'))\n",
    "punctuations = list(string.punctuation)\n",
    "stops.update(punctuations)"
   ]
  },
  {
   "cell_type": "code",
   "execution_count": 9,
   "metadata": {},
   "outputs": [],
   "source": [
    "from nltk import pos_tag\n",
    "def clean_review(words):\n",
    "    output_words = []\n",
    "    for w in words:\n",
    "        if w.lower() not in stops:\n",
    "            pos = pos_tag([w])\n",
    "            clean_word = lemmatizer.lemmatize(w, pos = get_simple_pos(pos[0][1]))\n",
    "            output_words.append(clean_word.lower())\n",
    "    return output_words"
   ]
  },
  {
   "cell_type": "code",
   "execution_count": 12,
   "metadata": {},
   "outputs": [
    {
     "name": "stdout",
     "output_type": "stream",
     "text": [
      "<class 'pandas.core.frame.DataFrame'>\n",
      "<class 'pandas.core.series.Series'>\n",
      "<class 'pandas.core.series.Series'>\n",
      "10980\n",
      "3660\n"
     ]
    }
   ],
   "source": [
    "import numpy as np\n",
    "import pandas as pd\n",
    "from nltk import word_tokenize          \n",
    "train=pd.read_csv(\"train.csv\")\n",
    "test=pd.read_csv(\"test.csv\")\n",
    "print(type(train))\n",
    "X_test=test.text\n",
    "X_train=train.text\n",
    "Y_train=train.airline_sentiment\n",
    "print(type(X_train))\n",
    "print(type(Y_train))\n",
    "print(len(X_train))\n",
    "print(len(X_test))\n",
    "document=[]\n",
    "for text in X_train:\n",
    "    document.append(word_tokenize(text))\n",
    "for text in X_test:\n",
    "    document.append(word_tokenize(text))\n",
    "from nltk.stem import WordNetLemmatizer\n",
    "lemmatizer = WordNetLemmatizer()\n",
    "clean_document = [clean_review(doc) for doc in document]\n",
    "clean_text_documents = [\" \".join(doc) for doc in clean_document]\n",
    "clean_text_documents_train=clean_text_documents[:10980]\n",
    "clean_text_documents_test=clean_text_documents[10980:]\n",
    "from sklearn.feature_extraction.text import CountVectorizer\n",
    "vect=CountVectorizer(stop_words='english',ngram_range=(1, 2),max_df=0.5)# instantiate the vectorizer\n",
    "vect.fit(clean_text_documents_train)\n",
    "X_train_dtm=vect.transform(clean_text_documents_train)\n",
    "X_test_dtm=vect.transform(clean_text_documents_test)\n",
    "# from sklearn.naive_bayes import MultinomialNB  \n",
    "# nb=MultinomialNB()\n",
    "# nb.fit(X_train_dtm,Y_train)# train the model using X_train_dtm\n",
    "# pred=nb.predict(X_test_dtm)#make class predictions for X_test_dtm\n",
    "# np.savetxt(\"senti2.csv\",pred,fmt=\"%s\")\n",
    "from sklearn.linear_model import LogisticRegression\n",
    "log=LogisticRegression()\n",
    "log.fit(X_train_dtm,Y_train)# train the model using X_train_dtm\n",
    "pred=log.predict(X_test_dtm)#make class predictions for X_test_dtm\n",
    "np.savetxt(\"senti10.csv\",pred,fmt=\"%s\")\n",
    "# from sklearn.ensemble import RandomForestClassifier\n",
    "# rnd=RandomForestClassifier()\n",
    "# rnd.fit(X_train_dtm,Y_train)# train the model using X_train_dtm\n",
    "# pred=rnd.predict(X_test_dtm)#make class predictions for X_test_dtm\n",
    "# np.savetxt(\"senti6.csv\",pred,fmt=\"%s\")\n",
    "# from sklearn import svm\n",
    "# svc=svm.SVC()\n",
    "# svc.fit(X_train_dtm,Y_train)# train the model using X_train_dtm\n",
    "# pred=svc.predict(X_test_dtm)#make class predictions for X_test_dtm\n",
    "# np.savetxt(\"senti7.csv\",pred,fmt=\"%s\")"
   ]
  }
 ],
 "metadata": {
  "kernelspec": {
   "display_name": "Python 3",
   "language": "python",
   "name": "python3"
  },
  "language_info": {
   "codemirror_mode": {
    "name": "ipython",
    "version": 3
   },
   "file_extension": ".py",
   "mimetype": "text/x-python",
   "name": "python",
   "nbconvert_exporter": "python",
   "pygments_lexer": "ipython3",
   "version": "3.6.5"
  }
 },
 "nbformat": 4,
 "nbformat_minor": 2
}
